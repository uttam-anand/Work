{
  "nbformat": 4,
  "nbformat_minor": 0,
  "metadata": {
    "colab": {
      "name": "Uttam_Anand.ipynb",
      "provenance": []
    },
    "kernelspec": {
      "name": "python3",
      "display_name": "Python 3"
    },
    "language_info": {
      "name": "python"
    }
  },
  "cells": [
    {
      "cell_type": "markdown",
      "source": [
        "### Answer1"
      ],
      "metadata": {
        "id": "NMX9NHdN4gjI"
      }
    },
    {
      "cell_type": "code",
      "source": [
        "for i in range(2000,3201):\n",
        "  if i%7 == 0 and i%5 != 0:\n",
        "    print(i,end = \",\")"
      ],
      "metadata": {
        "colab": {
          "base_uri": "https://localhost:8080/"
        },
        "id": "7UetU_bT4kML",
        "outputId": "9de27b29-b0c8-42b3-998b-7afd032ab5a4"
      },
      "execution_count": 2,
      "outputs": [
        {
          "output_type": "stream",
          "name": "stdout",
          "text": [
            "2002,2009,2016,2023,2037,2044,2051,2058,2072,2079,2086,2093,2107,2114,2121,2128,2142,2149,2156,2163,2177,2184,2191,2198,2212,2219,2226,2233,2247,2254,2261,2268,2282,2289,2296,2303,2317,2324,2331,2338,2352,2359,2366,2373,2387,2394,2401,2408,2422,2429,2436,2443,2457,2464,2471,2478,2492,2499,2506,2513,2527,2534,2541,2548,2562,2569,2576,2583,2597,2604,2611,2618,2632,2639,2646,2653,2667,2674,2681,2688,2702,2709,2716,2723,2737,2744,2751,2758,2772,2779,2786,2793,2807,2814,2821,2828,2842,2849,2856,2863,2877,2884,2891,2898,2912,2919,2926,2933,2947,2954,2961,2968,2982,2989,2996,3003,3017,3024,3031,3038,3052,3059,3066,3073,3087,3094,3101,3108,3122,3129,3136,3143,3157,3164,3171,3178,3192,3199,"
          ]
        }
      ]
    },
    {
      "cell_type": "markdown",
      "source": [
        "### Answer 2 "
      ],
      "metadata": {
        "id": "KBtgVzYs6KUg"
      }
    },
    {
      "cell_type": "code",
      "source": [
        "fact = 1\n",
        "num = int(input())\n",
        "for i in range(2,num+1):\n",
        "  fact *= i\n",
        "print(fact)"
      ],
      "metadata": {
        "colab": {
          "base_uri": "https://localhost:8080/"
        },
        "id": "Pp_9640T6Mo8",
        "outputId": "52cf8ea4-c7c1-439b-c286-f7ccf5324ee0"
      },
      "execution_count": 4,
      "outputs": [
        {
          "output_type": "stream",
          "name": "stdout",
          "text": [
            "8\n",
            "40320\n"
          ]
        }
      ]
    },
    {
      "cell_type": "markdown",
      "source": [
        "### Answer 3"
      ],
      "metadata": {
        "id": "GxwiCHR37jYI"
      }
    },
    {
      "cell_type": "code",
      "source": [
        "n = int(input())\n",
        "dic = {}\n",
        "for i in range(1,n+1):\n",
        "  dic[i] = i*i\n",
        "\n",
        "print(dic)"
      ],
      "metadata": {
        "colab": {
          "base_uri": "https://localhost:8080/"
        },
        "id": "lJ9AX94h7lrz",
        "outputId": "6b8dc37e-ba00-43d8-ab9e-f0509c7214a9"
      },
      "execution_count": 6,
      "outputs": [
        {
          "output_type": "stream",
          "name": "stdout",
          "text": [
            "8\n",
            "{1: 1, 2: 4, 3: 9, 4: 16, 5: 25, 6: 36, 7: 49, 8: 64}\n"
          ]
        }
      ]
    },
    {
      "cell_type": "markdown",
      "source": [
        "### Answer 4"
      ],
      "metadata": {
        "id": "N5YMYqe5AgiZ"
      }
    },
    {
      "cell_type": "code",
      "source": [
        "lst = input().split(\",\")\n",
        "\n",
        "print(list(lst),end= \" \")\n",
        "print(tuple(lst))"
      ],
      "metadata": {
        "colab": {
          "base_uri": "https://localhost:8080/"
        },
        "id": "AGbVVjvRAiz-",
        "outputId": "5a3c61c0-9ed7-455e-bcab-d862a76d41f9"
      },
      "execution_count": 22,
      "outputs": [
        {
          "output_type": "stream",
          "name": "stdout",
          "text": [
            "1,2,3,4,5,6,7\n",
            "['1', '2', '3', '4', '5', '6', '7'] ('1', '2', '3', '4', '5', '6', '7')\n"
          ]
        }
      ]
    },
    {
      "cell_type": "markdown",
      "source": [
        "### Answer 5"
      ],
      "metadata": {
        "id": "ouiT2zSqCaU8"
      }
    },
    {
      "cell_type": "code",
      "source": [
        "class new:\n",
        "  def __init__(self):\n",
        "    self.str = \"\"\n",
        "\n",
        "  def getString(self):\n",
        "    self.str = input()\n",
        "  \n",
        "  def printString(self):\n",
        "    print(self.str.upper())\n",
        "   \n",
        "first = new()\n",
        "first.getString()\n",
        "first.printString()"
      ],
      "metadata": {
        "colab": {
          "base_uri": "https://localhost:8080/"
        },
        "id": "JaCp9cnCCb4J",
        "outputId": "a84826aa-7555-4d37-a31b-8724ba5811a6"
      },
      "execution_count": 12,
      "outputs": [
        {
          "output_type": "stream",
          "name": "stdout",
          "text": [
            "Uttam\n",
            "UTTAM\n"
          ]
        }
      ]
    },
    {
      "cell_type": "markdown",
      "source": [
        "### Answer 6"
      ],
      "metadata": {
        "id": "2vdSseEcDsA_"
      }
    },
    {
      "cell_type": "code",
      "source": [
        "import math\n",
        "\n",
        "val = input(\"\")\n",
        "val = val.split(',')\n",
        "\n",
        "result = []\n",
        "for D in val:\n",
        "    Q = round(math.sqrt(2 * 50 * int(D) / 30))\n",
        "    result.append(Q)\n",
        "\n",
        "print(result)"
      ],
      "metadata": {
        "colab": {
          "base_uri": "https://localhost:8080/"
        },
        "id": "MG9DNlSJDwb7",
        "outputId": "4eb25b17-107d-455c-a389-8757ca41cfe7"
      },
      "execution_count": 20,
      "outputs": [
        {
          "output_type": "stream",
          "name": "stdout",
          "text": [
            "100,150,180\n",
            "[18, 22, 24]\n"
          ]
        }
      ]
    },
    {
      "cell_type": "markdown",
      "source": [
        "### Answer 7"
      ],
      "metadata": {
        "id": "OZDBX9XXVBhd"
      }
    },
    {
      "cell_type": "code",
      "source": [
        "rows = int(input(\"Input rows: \"))\n",
        "cols = int(input(\"Input columns: \"))\n",
        "val = 0\n",
        "matrix = [[val for col in range(cols)] for row in range(rows)]\n",
        "\n",
        "for row in range(rows):\n",
        "    for col in range(cols):\n",
        "        matrix[row][col]= row*col\n",
        "\n",
        "print(matrix)"
      ],
      "metadata": {
        "colab": {
          "base_uri": "https://localhost:8080/"
        },
        "id": "-9LsSot1Gj-0",
        "outputId": "5b4e027e-ce13-40a1-afd2-ccf2e077f5af"
      },
      "execution_count": 30,
      "outputs": [
        {
          "output_type": "stream",
          "name": "stdout",
          "text": [
            "Input rows: 3\n",
            "Input columns: 4\n",
            "[[0, 0, 0, 0], [0, 1, 2, 3], [0, 2, 4, 6]]\n"
          ]
        }
      ]
    },
    {
      "cell_type": "markdown",
      "source": [
        "### Answer 8"
      ],
      "metadata": {
        "id": "zBT-NPBfI0Ni"
      }
    },
    {
      "cell_type": "code",
      "source": [
        "inp = input()\n",
        "inp = list(inp.split(\",\"))\n",
        "\n",
        "inp.sort()\n",
        "\n",
        "res = \",\".join(inp)\n",
        "print(res)"
      ],
      "metadata": {
        "colab": {
          "base_uri": "https://localhost:8080/"
        },
        "id": "ZjOxqGCaI2fH",
        "outputId": "ad131b49-3b33-46f7-b4a2-c939a975f4a9"
      },
      "execution_count": 41,
      "outputs": [
        {
          "output_type": "stream",
          "name": "stdout",
          "text": [
            "without,hello,bag,world\n",
            "bag,hello,without,world\n"
          ]
        }
      ]
    },
    {
      "cell_type": "markdown",
      "source": [
        "### Answer 9"
      ],
      "metadata": {
        "id": "3ABVIZeSLScA"
      }
    },
    {
      "cell_type": "code",
      "source": [
        "lines = []\n",
        "while True:\n",
        "    l = input()\n",
        "    if l:\n",
        "        lines.append(l.upper())\n",
        "    else:\n",
        "        break;\n",
        "\n",
        "for i in lines:\n",
        "    print(i)"
      ],
      "metadata": {
        "colab": {
          "base_uri": "https://localhost:8080/"
        },
        "id": "mhaHBwtNLUa1",
        "outputId": "32be3c02-5807-465e-a630-7968357d8e61"
      },
      "execution_count": 43,
      "outputs": [
        {
          "output_type": "stream",
          "name": "stdout",
          "text": [
            "hello world\n",
            "practice makes perfect\n",
            "\n",
            "HELLO WORLD\n",
            "PRACTICE MAKES PERFECT\n"
          ]
        }
      ]
    },
    {
      "cell_type": "markdown",
      "source": [
        "### Answer 10"
      ],
      "metadata": {
        "id": "_lpmHkNMLyeX"
      }
    },
    {
      "cell_type": "code",
      "source": [
        "inp = input()\n",
        "inp = list(inp.split(\" \"))\n",
        "\n",
        "inp = sorted(set(inp))\n",
        "\n",
        "res = \" \".join(inp)\n",
        "print(res)"
      ],
      "metadata": {
        "colab": {
          "base_uri": "https://localhost:8080/"
        },
        "id": "Hpq1EGlwL4YD",
        "outputId": "cdf2551a-4ebe-42d2-f77b-95fed4f5b0b2"
      },
      "execution_count": 50,
      "outputs": [
        {
          "output_type": "stream",
          "name": "stdout",
          "text": [
            "hello world and practice makes perfect and hello world again\n",
            "again and hello makes perfect practice world\n"
          ]
        }
      ]
    },
    {
      "cell_type": "markdown",
      "source": [
        "### Answer 11\n"
      ],
      "metadata": {
        "id": "mK_egth0Nb06"
      }
    },
    {
      "cell_type": "code",
      "source": [
        "lst = []\n",
        "num = [i for i in input().split(\",\")]\n",
        "for i in num:\n",
        "    val = int(i, 2)\n",
        "    if val % 5 == 0:\n",
        "        lst.append(i)\n",
        "print(\",\".join(lst))"
      ],
      "metadata": {
        "colab": {
          "base_uri": "https://localhost:8080/"
        },
        "id": "cIE3NazVNdsK",
        "outputId": "dd91e419-fc90-49d2-9f0f-fb53e2b6e34e"
      },
      "execution_count": 52,
      "outputs": [
        {
          "output_type": "stream",
          "name": "stdout",
          "text": [
            "0100,0011,1010,1001\n",
            "1010\n"
          ]
        }
      ]
    },
    {
      "cell_type": "markdown",
      "source": [
        "### Answer 12"
      ],
      "metadata": {
        "id": "ozvABuznPW-f"
      }
    },
    {
      "cell_type": "code",
      "source": [
        "lst = []\n",
        "for i in range(100, 401):\n",
        "    st = str(i)\n",
        "    if (int(st[0])%2==0) and (int(st[1])%2==0) and (int(st[2])%2==0):\n",
        "        lst.append(st)\n",
        "print( \",\".join(lst))"
      ],
      "metadata": {
        "colab": {
          "base_uri": "https://localhost:8080/"
        },
        "id": "yuJvCtAJPYux",
        "outputId": "ef194f1a-0e10-443b-a11a-ed765216ace3"
      },
      "execution_count": 53,
      "outputs": [
        {
          "output_type": "stream",
          "name": "stdout",
          "text": [
            "200,202,204,206,208,220,222,224,226,228,240,242,244,246,248,260,262,264,266,268,280,282,284,286,288,400\n"
          ]
        }
      ]
    },
    {
      "cell_type": "markdown",
      "source": [
        "### Answer 13"
      ],
      "metadata": {
        "id": "yYxCVUFubAIo"
      }
    },
    {
      "cell_type": "code",
      "source": [
        "s = input()\n",
        "d = 0\n",
        "l = 0\n",
        "for c in s:\n",
        "    if c.isdigit():\n",
        "        d =d+1\n",
        "    elif c.isalpha():\n",
        "        l=l+1\n",
        "    else:\n",
        "        pass\n",
        "print(\"Letters\", l)\n",
        "print(\"Digits\", d )"
      ],
      "metadata": {
        "colab": {
          "base_uri": "https://localhost:8080/"
        },
        "id": "r-VcFvRtbBxB",
        "outputId": "0e607cd8-4ae5-44eb-9b0b-17fa5c98f45f"
      },
      "execution_count": 67,
      "outputs": [
        {
          "output_type": "stream",
          "name": "stdout",
          "text": [
            "Hello World 3244\n",
            "Letters 10\n",
            "Digits 4\n"
          ]
        }
      ]
    },
    {
      "cell_type": "markdown",
      "source": [
        "### Answer 14"
      ],
      "metadata": {
        "id": "6bOK_go4b3TY"
      }
    },
    {
      "cell_type": "code",
      "source": [
        "st = input()\n",
        "up = 0\n",
        "lo = 0\n",
        "for ch in st:\n",
        "    if ch.isupper():\n",
        "        up += 1\n",
        "    elif ch.islower():\n",
        "        lo += 1\n",
        "    else:\n",
        "        pass\n",
        "print (\"Uppercase : \",up)\n",
        "print (\"Lowercase : \",lo)\n"
      ],
      "metadata": {
        "colab": {
          "base_uri": "https://localhost:8080/"
        },
        "id": "bZ7-GAQ9b5p3",
        "outputId": "b192ab31-125c-4836-c488-e2137b164b35"
      },
      "execution_count": 68,
      "outputs": [
        {
          "output_type": "stream",
          "name": "stdout",
          "text": [
            "helloWORld!\n",
            "Uppercase :  3\n",
            "Lowercase :  7\n"
          ]
        }
      ]
    },
    {
      "cell_type": "markdown",
      "source": [
        "### Answer 15"
      ],
      "metadata": {
        "id": "83YfilFDb7h4"
      }
    },
    {
      "cell_type": "code",
      "source": [
        "a = int(input())\n",
        "aa = a * 10 + a\n",
        "aaa = aa * 10 + a\n",
        "aaaa = aaa * 10 + a\n",
        "\n",
        "print(a + aa + aaa + aaaa)\n"
      ],
      "metadata": {
        "colab": {
          "base_uri": "https://localhost:8080/"
        },
        "id": "AQu_8QBbb9r6",
        "outputId": "e05a714f-d7b1-40cf-9a4a-0bdba5c79043"
      },
      "execution_count": 55,
      "outputs": [
        {
          "output_type": "stream",
          "name": "stdout",
          "text": [
            "9\n",
            "11106\n"
          ]
        }
      ]
    },
    {
      "cell_type": "markdown",
      "source": [
        "### Answer 16"
      ],
      "metadata": {
        "id": "b8ctxOfpcT3_"
      }
    },
    {
      "cell_type": "code",
      "source": [
        "inp = input()\n",
        "inp = (inp.split(\",\"))\n",
        "\n",
        "ans = [int(i)*int(i) for i in inp if int(i) % 2 == 1]\n",
        "\n",
        "print(ans)"
      ],
      "metadata": {
        "colab": {
          "base_uri": "https://localhost:8080/"
        },
        "id": "y_124Z5XcVem",
        "outputId": "34a2f819-5e6e-4198-f705-f9a03c17b1c9"
      },
      "execution_count": 64,
      "outputs": [
        {
          "output_type": "stream",
          "name": "stdout",
          "text": [
            "1,2,3,4,5,6,7,8,9\n",
            "[1, 9, 25, 49, 81]\n"
          ]
        }
      ]
    },
    {
      "cell_type": "markdown",
      "source": [
        "### Answer 17"
      ],
      "metadata": {
        "id": "QS6bKthKeOVL"
      }
    },
    {
      "cell_type": "code",
      "source": [
        "final = 0\n",
        "while True:\n",
        "    lst = input()\n",
        "    if lst == \"\":\n",
        "        break\n",
        "    else:\n",
        "        lst = lst.split(\" \")\n",
        "        if lst[0] == \"D\":\n",
        "            final = final + int(lst[1])\n",
        "        elif lst[0] == \"W\":\n",
        "            final = final - int(lst[1])\n",
        "\n",
        "print(final)"
      ],
      "metadata": {
        "colab": {
          "base_uri": "https://localhost:8080/"
        },
        "id": "wQCvLnZIeP7A",
        "outputId": "f722ac2d-6b9d-4a74-c3f7-2c31c532076e"
      },
      "execution_count": 66,
      "outputs": [
        {
          "output_type": "stream",
          "name": "stdout",
          "text": [
            "D 100\n",
            "D 200\n",
            "W 200\n",
            "\n",
            "100\n"
          ]
        }
      ]
    },
    {
      "cell_type": "markdown",
      "source": [
        "### Answer 18"
      ],
      "metadata": {
        "id": "UDL55TW5e5CZ"
      }
    },
    {
      "cell_type": "code",
      "source": [
        "import re\n",
        "\n",
        "lst = input()\n",
        "lst = lst.split(\",\")\n",
        "res = []\n",
        "for i in lst:\n",
        "    if len(i) < 6 or len(i) > 12:\n",
        "        continue\n",
        "    elif not re.search(\"([a-z])+\", i):\n",
        "        continue\n",
        "    elif not re.search(\"([A-Z])+\", i):\n",
        "        continue\n",
        "    elif not re.search(\"([0-9])+\", i):\n",
        "        continue\n",
        "    elif not re.search(\"([!@$%^&])+\", i):\n",
        "        continue\n",
        "    else:\n",
        "        res.append(i)\n",
        "\n",
        "print((\" \").join(res))"
      ],
      "metadata": {
        "colab": {
          "base_uri": "https://localhost:8080/"
        },
        "id": "sJzxeGAEe63D",
        "outputId": "850053e5-f9af-4393-bfe1-cb894325c564"
      },
      "execution_count": 69,
      "outputs": [
        {
          "output_type": "stream",
          "name": "stdout",
          "text": [
            "ABd1234@1,a F1#,2w3E*,2We3345\n",
            "ABd1234@1\n"
          ]
        }
      ]
    },
    {
      "cell_type": "markdown",
      "source": [
        "### Answer 19"
      ],
      "metadata": {
        "id": "s6TMacKxVF90"
      }
    },
    {
      "cell_type": "code",
      "source": [
        "class Answer:\n",
        "    def divisible_by_seven(self, n):\n",
        "        for number in range(1,n + 1):\n",
        "            if number % 7 == 0: yield number\n",
        "\n",
        "\n",
        "obj = Answer()\n",
        "num = int(input(\"Enter the number : \"))\n",
        "generator = obj.divisible_by_seven(num)\n",
        "for number in generator:\n",
        "    print(number)"
      ],
      "metadata": {
        "colab": {
          "base_uri": "https://localhost:8080/"
        },
        "id": "W0WH2cmqVHud",
        "outputId": "e00e224d-f989-44c7-acd5-95656bffbd5c"
      },
      "execution_count": 173,
      "outputs": [
        {
          "output_type": "stream",
          "name": "stdout",
          "text": [
            "Enter the number : 46\n",
            "7\n",
            "14\n",
            "21\n",
            "28\n",
            "35\n",
            "42\n"
          ]
        }
      ]
    },
    {
      "cell_type": "markdown",
      "source": [
        "### Answer 21"
      ],
      "metadata": {
        "id": "vWIUIB5E7El5"
      }
    },
    {
      "cell_type": "code",
      "source": [
        "import math\n",
        "x, y = 0, 0\n",
        "while True:\n",
        "    step = input()\n",
        "    if step == \"\":\n",
        "        break\n",
        "    else:\n",
        "        step = step.split(\" \")\n",
        "        if step[0] == \"UP\":\n",
        "            y = y + int(step[1])\n",
        "        elif step[0] == \"DOWN\":\n",
        "            y = y - int(step[1])\n",
        "        elif step[0] == \"LEFT\":\n",
        "            x = x - int(step[1])\n",
        "        elif step[0] == \"RIGHT\":\n",
        "            x = x + int(step[1])\n",
        "c = math.sqrt(x**2 + y**2)\n",
        "print(c)"
      ],
      "metadata": {
        "colab": {
          "base_uri": "https://localhost:8080/"
        },
        "id": "oMmQn0AP7IdZ",
        "outputId": "e332f30e-98f7-4c5b-99fc-e2b44e60d8e6"
      },
      "execution_count": 75,
      "outputs": [
        {
          "output_type": "stream",
          "name": "stdout",
          "text": [
            "UP 5 DOWN 3 LEFT 3 RIGHT 2\n",
            "\n",
            "5.0\n"
          ]
        }
      ]
    },
    {
      "cell_type": "markdown",
      "source": [
        "### Answer 22\n"
      ],
      "metadata": {
        "id": "m5fxWXID7d4m"
      }
    },
    {
      "cell_type": "code",
      "source": [
        "d=dict()\n",
        "s=input()\n",
        "for i in s.split():\n",
        "  d[i]=d.get(i,0)+1\n",
        "\n",
        "for i in sorted(d.items()):\n",
        "    print(i[0],\":\", i[1])"
      ],
      "metadata": {
        "colab": {
          "base_uri": "https://localhost:8080/"
        },
        "id": "kSjiLQs-7hq5",
        "outputId": "d01df2f3-cf73-44ac-8f38-0a313ed26d82"
      },
      "execution_count": 82,
      "outputs": [
        {
          "output_type": "stream",
          "name": "stdout",
          "text": [
            "New to Python or choosing between Python 2 and Python 3? Read Python 2 or Python 3.\n",
            "2 : 2\n",
            "3. : 1\n",
            "3? : 1\n",
            "New : 1\n",
            "Python : 5\n",
            "Read : 1\n",
            "and : 1\n",
            "between : 1\n",
            "choosing : 1\n",
            "or : 2\n",
            "to : 1\n"
          ]
        }
      ]
    },
    {
      "cell_type": "markdown",
      "source": [
        "### Answer 23"
      ],
      "metadata": {
        "id": "WzJRxnmq9Oe6"
      }
    },
    {
      "cell_type": "code",
      "source": [
        "def getSquare(num):\n",
        "  return num*num\n",
        "\n",
        "n = int(input())\n",
        "sqr = getSquare(n)\n",
        "print(sqr)"
      ],
      "metadata": {
        "colab": {
          "base_uri": "https://localhost:8080/"
        },
        "id": "cmaQl9Im9T-y",
        "outputId": "681ce6c7-8d32-40cd-d510-cc4efccaffba"
      },
      "execution_count": 84,
      "outputs": [
        {
          "output_type": "stream",
          "name": "stdout",
          "text": [
            "5\n",
            "25\n"
          ]
        }
      ]
    },
    {
      "cell_type": "markdown",
      "source": [
        "### Answer 24"
      ],
      "metadata": {
        "id": "IAeSkVZI9kUj"
      }
    },
    {
      "cell_type": "code",
      "source": [
        "def absolute(num):\n",
        "      # This will return the absolute number of a value.\n",
        "    return abs(num)\n",
        "\n",
        "num = int(input())\n",
        "print(absolute(num))\n",
        "\n",
        "print(abs.__doc__)\n",
        "print(int.__doc__)\n",
        "print(input.__doc__)\n"
      ],
      "metadata": {
        "colab": {
          "base_uri": "https://localhost:8080/"
        },
        "id": "eiPWdrti94qn",
        "outputId": "906b1ea4-b186-43ba-e3d2-3a15b9eb1b45"
      },
      "execution_count": 91,
      "outputs": [
        {
          "output_type": "stream",
          "name": "stdout",
          "text": [
            "-6\n",
            "6\n",
            "Return the absolute value of the argument.\n",
            "int([x]) -> integer\n",
            "int(x, base=10) -> integer\n",
            "\n",
            "Convert a number or string to an integer, or return 0 if no arguments\n",
            "are given.  If x is a number, return x.__int__().  For floating point\n",
            "numbers, this truncates towards zero.\n",
            "\n",
            "If x is not a number or if base is given, then x must be a string,\n",
            "bytes, or bytearray instance representing an integer literal in the\n",
            "given base.  The literal can be preceded by '+' or '-' and be surrounded\n",
            "by whitespace.  The base defaults to 10.  Valid bases are 0 and 2-36.\n",
            "Base 0 means to interpret the base from the string as an integer literal.\n",
            ">>> int('0b100', base=0)\n",
            "4\n",
            "Forward raw_input to frontends\n",
            "\n",
            "        Raises\n",
            "        ------\n",
            "        StdinNotImplentedError if active frontend doesn't support stdin.\n",
            "        \n"
          ]
        }
      ]
    },
    {
      "cell_type": "markdown",
      "source": [
        "### Answer 26"
      ],
      "metadata": {
        "id": "Bu9jUate-1b0"
      }
    },
    {
      "cell_type": "code",
      "source": [
        "def sum(a,b):\n",
        "  ans = a+b\n",
        "  print('Sum is : ',ans)\n",
        "\n",
        "sum(4,5)"
      ],
      "metadata": {
        "colab": {
          "base_uri": "https://localhost:8080/"
        },
        "id": "SREOEjnJ-4Tm",
        "outputId": "2db4307e-0571-467f-ee98-576ea5d4bf14"
      },
      "execution_count": 92,
      "outputs": [
        {
          "output_type": "stream",
          "name": "stdout",
          "text": [
            "Sum is :  9\n"
          ]
        }
      ]
    },
    {
      "cell_type": "markdown",
      "source": [
        "### Answer 27"
      ],
      "metadata": {
        "id": "BBy8_LorAdT6"
      }
    },
    {
      "cell_type": "code",
      "source": [
        "def convert(val):\n",
        "  st = str(val)\n",
        "  print(st)\n",
        "  \n",
        "convert(34)"
      ],
      "metadata": {
        "colab": {
          "base_uri": "https://localhost:8080/"
        },
        "id": "QS71ncOlAgQm",
        "outputId": "6439ab8e-28fd-4813-d7c1-d1b74ccca2bc"
      },
      "execution_count": 93,
      "outputs": [
        {
          "output_type": "stream",
          "name": "stdout",
          "text": [
            "34\n"
          ]
        }
      ]
    },
    {
      "cell_type": "markdown",
      "source": [
        "### Answer 28\n"
      ],
      "metadata": {
        "id": "XV3VkTmYAu8z"
      }
    },
    {
      "cell_type": "code",
      "source": [
        "def compute(val1,val2):\n",
        "  sum = int(val1) + int(val2)\n",
        "  print(\"Sum is :\",sum)\n",
        "\n",
        "compute(\"45\",\"56\")\n"
      ],
      "metadata": {
        "colab": {
          "base_uri": "https://localhost:8080/"
        },
        "id": "sP6sR3_aAxOi",
        "outputId": "4616039a-3153-46af-ebce-c329171195de"
      },
      "execution_count": 95,
      "outputs": [
        {
          "output_type": "stream",
          "name": "stdout",
          "text": [
            "Sum is : 101\n"
          ]
        }
      ]
    },
    {
      "cell_type": "markdown",
      "source": [
        "### Answer 29"
      ],
      "metadata": {
        "id": "ThUr0Mn9BIOP"
      }
    },
    {
      "cell_type": "code",
      "source": [
        "def concat(str1, str2):\n",
        "  res = str1 + str2\n",
        "  print(res)\n",
        "\n",
        "concat(\"Hello \",\"World\")"
      ],
      "metadata": {
        "colab": {
          "base_uri": "https://localhost:8080/"
        },
        "id": "-KczvyJGBKek",
        "outputId": "04c99745-bbc4-48e9-e70b-81be0eaea49f"
      },
      "execution_count": 99,
      "outputs": [
        {
          "output_type": "stream",
          "name": "stdout",
          "text": [
            "Hello World\n"
          ]
        }
      ]
    },
    {
      "cell_type": "markdown",
      "source": [
        "### Answer 30"
      ],
      "metadata": {
        "id": "wNTIDh9CB1Vf"
      }
    },
    {
      "cell_type": "code",
      "source": [
        "def max_len_string(str1,str2):\n",
        "  if len(str1) > len(str2):\n",
        "    print(str1)\n",
        "  elif len(str2) > len(str1):\n",
        "    print(str2)\n",
        "  else:\n",
        "    print(str1)\n",
        "    print(str2)\n",
        "\n",
        "max_len_string(\"Uttam\",\"Anand1\")"
      ],
      "metadata": {
        "colab": {
          "base_uri": "https://localhost:8080/"
        },
        "id": "SNPzkA2cB3RI",
        "outputId": "83622318-5ca8-4e1b-f2ff-dd14102d6483"
      },
      "execution_count": 101,
      "outputs": [
        {
          "output_type": "stream",
          "name": "stdout",
          "text": [
            "Anand1\n"
          ]
        }
      ]
    },
    {
      "cell_type": "markdown",
      "source": [
        "### Answer 31"
      ],
      "metadata": {
        "id": "wdwIh4kvCZjZ"
      }
    },
    {
      "cell_type": "code",
      "source": [
        "def fun():\n",
        "  dict = {}\n",
        "  for i in range(1,21):\n",
        "    dict[i] = i*i\n",
        "  print(dict)\n",
        "\n",
        "fun()"
      ],
      "metadata": {
        "colab": {
          "base_uri": "https://localhost:8080/"
        },
        "id": "vCItZ7tSCdbn",
        "outputId": "ad321ef4-c5fd-463d-a3a4-00549872bc77"
      },
      "execution_count": 102,
      "outputs": [
        {
          "output_type": "stream",
          "name": "stdout",
          "text": [
            "{1: 1, 2: 4, 3: 9, 4: 16, 5: 25, 6: 36, 7: 49, 8: 64, 9: 81, 10: 100, 11: 121, 12: 144, 13: 169, 14: 196, 15: 225, 16: 256, 17: 289, 18: 324, 19: 361, 20: 400}\n"
          ]
        }
      ]
    },
    {
      "cell_type": "markdown",
      "source": [
        "### Answer 32"
      ],
      "metadata": {
        "id": "TIEzFvREDNn4"
      }
    },
    {
      "cell_type": "code",
      "source": [
        "def fun():\n",
        "  dict = {}\n",
        "  for i in range(1,21):\n",
        "    dict[i] = i*i\n",
        "  print(dict.keys())\n",
        "\n",
        "fun()"
      ],
      "metadata": {
        "colab": {
          "base_uri": "https://localhost:8080/"
        },
        "id": "CwP-uMO4DPkA",
        "outputId": "f5ae30f0-99b3-4b44-a9b0-19ccb8078321"
      },
      "execution_count": 104,
      "outputs": [
        {
          "output_type": "stream",
          "name": "stdout",
          "text": [
            "dict_keys([1, 2, 3, 4, 5, 6, 7, 8, 9, 10, 11, 12, 13, 14, 15, 16, 17, 18, 19, 20])\n"
          ]
        }
      ]
    },
    {
      "cell_type": "markdown",
      "source": [
        "### Answer 33"
      ],
      "metadata": {
        "id": "GtElz7bLDgXW"
      }
    },
    {
      "cell_type": "code",
      "source": [
        "def fun():\n",
        "  lst = [i*i for i in range(1,21)]\n",
        "  print(lst)\n",
        "\n",
        "fun()"
      ],
      "metadata": {
        "colab": {
          "base_uri": "https://localhost:8080/"
        },
        "id": "kjedNypIDiAP",
        "outputId": "f4b7806f-bd50-4c55-e376-c0cecd55b414"
      },
      "execution_count": 105,
      "outputs": [
        {
          "output_type": "stream",
          "name": "stdout",
          "text": [
            "[1, 4, 9, 16, 25, 36, 49, 64, 81, 100, 121, 144, 169, 196, 225, 256, 289, 324, 361, 400]\n"
          ]
        }
      ]
    },
    {
      "cell_type": "markdown",
      "source": [
        "### Answer 34\n"
      ],
      "metadata": {
        "id": "h31funH2DwpQ"
      }
    },
    {
      "cell_type": "code",
      "source": [
        "def fun():\n",
        "  lst = [i*i for i in range(1,21)]\n",
        "  print(lst[:5])\n",
        "\n",
        "fun()"
      ],
      "metadata": {
        "colab": {
          "base_uri": "https://localhost:8080/"
        },
        "id": "wfspgcqpDyy7",
        "outputId": "a62a5210-0740-440a-b10b-9fac9c4e93b1"
      },
      "execution_count": 106,
      "outputs": [
        {
          "output_type": "stream",
          "name": "stdout",
          "text": [
            "[1, 4, 9, 16, 25]\n"
          ]
        }
      ]
    },
    {
      "cell_type": "markdown",
      "source": [
        "### Answer 35"
      ],
      "metadata": {
        "id": "OyQgcoR5D7R-"
      }
    },
    {
      "cell_type": "code",
      "source": [
        "def fun():\n",
        "  lst = [i*i for i in range(1,21)]\n",
        "  print(lst[-5:])\n",
        "\n",
        "fun()"
      ],
      "metadata": {
        "colab": {
          "base_uri": "https://localhost:8080/"
        },
        "id": "pj9d3hnVD8rP",
        "outputId": "195183ea-03a0-4959-857d-013cacc0ca05"
      },
      "execution_count": 113,
      "outputs": [
        {
          "output_type": "stream",
          "name": "stdout",
          "text": [
            "[256, 289, 324, 361, 400]\n"
          ]
        }
      ]
    },
    {
      "cell_type": "markdown",
      "source": [
        "### Answer 36"
      ],
      "metadata": {
        "id": "vPFhtRS9FToM"
      }
    },
    {
      "cell_type": "code",
      "source": [
        "def fun():\n",
        "  lst = [i*i for i in range(1,21)]\n",
        "  print(lst[5:])\n",
        "\n",
        "fun()"
      ],
      "metadata": {
        "colab": {
          "base_uri": "https://localhost:8080/"
        },
        "id": "hjD4gRzdFWzn",
        "outputId": "05e6d042-3518-4936-9e24-b943c0dfcbba"
      },
      "execution_count": 114,
      "outputs": [
        {
          "output_type": "stream",
          "name": "stdout",
          "text": [
            "[36, 49, 64, 81, 100, 121, 144, 169, 196, 225, 256, 289, 324, 361, 400]\n"
          ]
        }
      ]
    },
    {
      "cell_type": "markdown",
      "source": [
        "### Answer 37"
      ],
      "metadata": {
        "id": "BGo0GxxUFkad"
      }
    },
    {
      "cell_type": "code",
      "source": [
        "def fun():\n",
        "  lst = [i*i for i in range(1,21)]\n",
        "  print(tuple(lst))\n",
        "\n",
        "fun()"
      ],
      "metadata": {
        "colab": {
          "base_uri": "https://localhost:8080/"
        },
        "id": "NPwrYVx8Fm2T",
        "outputId": "8d035330-f37f-4c5a-db9e-4b921f7575b7"
      },
      "execution_count": 119,
      "outputs": [
        {
          "output_type": "stream",
          "name": "stdout",
          "text": [
            "(1, 4, 9, 16, 25, 36, 49, 64, 81, 100, 121, 144, 169, 196, 225, 256, 289, 324, 361, 400)\n"
          ]
        }
      ]
    },
    {
      "cell_type": "markdown",
      "source": [
        "### Answer 38"
      ],
      "metadata": {
        "id": "Cu1gPZ9wG1n3"
      }
    },
    {
      "cell_type": "code",
      "source": [
        "def fun():\n",
        "  lst = [i*i for i in range(1,21)]\n",
        "  tup = tuple(lst)\n",
        "  tup1 = tup[:len(tup)//2]\n",
        "  tup2 = tup[len(tup)//2:]\n",
        "  print(tup1,\"\\n\",tup2)\n",
        "\n",
        "fun()"
      ],
      "metadata": {
        "colab": {
          "base_uri": "https://localhost:8080/"
        },
        "id": "-epmU7ecG3VS",
        "outputId": "d7a2468f-d0da-40ea-8f14-4275c59a4dca"
      },
      "execution_count": 118,
      "outputs": [
        {
          "output_type": "stream",
          "name": "stdout",
          "text": [
            "(1, 4, 9, 16, 25, 36, 49, 64, 81, 100) \n",
            " (121, 144, 169, 196, 225, 256, 289, 324, 361, 400)\n"
          ]
        }
      ]
    },
    {
      "cell_type": "markdown",
      "source": [
        "### Answer 39"
      ],
      "metadata": {
        "id": "BODpDEmMG__Y"
      }
    },
    {
      "cell_type": "code",
      "source": [
        "tup = (1,2,3,4,5,6,7,8,9,10)\n",
        "lst = list(tup)\n",
        "tup1 = [i for i in range(1,len(lst)+1) if i % 2 == 0]\n",
        "\n",
        "print(tuple(tup1))"
      ],
      "metadata": {
        "colab": {
          "base_uri": "https://localhost:8080/"
        },
        "id": "EWO-adJWHBR0",
        "outputId": "86e994f7-0061-4215-d3a1-844962e885ee"
      },
      "execution_count": 125,
      "outputs": [
        {
          "output_type": "stream",
          "name": "stdout",
          "text": [
            "(2, 4, 6, 8, 10)\n"
          ]
        }
      ]
    },
    {
      "cell_type": "markdown",
      "source": [
        "### Answer 40"
      ],
      "metadata": {
        "id": "-FAKluj4Hqbi"
      }
    },
    {
      "cell_type": "code",
      "source": [
        "def check(str1):\n",
        "  if str1 == \"Yes\" or str1 == \"YES\" or str1 == \"yes\":\n",
        "    print(\"Yes\")\n",
        "  else:\n",
        "    print(\"No\")\n",
        "\n",
        "check(\"yes\")"
      ],
      "metadata": {
        "colab": {
          "base_uri": "https://localhost:8080/"
        },
        "id": "7D21AWFuHsGQ",
        "outputId": "aa19a8e7-e057-4329-bac0-9528b8d6348a"
      },
      "execution_count": 126,
      "outputs": [
        {
          "output_type": "stream",
          "name": "stdout",
          "text": [
            "Yes\n"
          ]
        }
      ]
    },
    {
      "cell_type": "markdown",
      "source": [
        "### Answer 41"
      ],
      "metadata": {
        "id": "DfVkZgX2I0_g"
      }
    },
    {
      "cell_type": "code",
      "source": [
        "sqr_lst = list(map(lambda x: x**2, range(1,11)))\n",
        "print(sqr_lst)"
      ],
      "metadata": {
        "colab": {
          "base_uri": "https://localhost:8080/"
        },
        "id": "rpysyRzmI3Jf",
        "outputId": "f58f5264-6100-4e01-9f48-a320f282603e"
      },
      "execution_count": 140,
      "outputs": [
        {
          "output_type": "stream",
          "name": "stdout",
          "text": [
            "[1, 4, 9, 16, 25, 36, 49, 64, 81, 100]\n"
          ]
        }
      ]
    },
    {
      "cell_type": "markdown",
      "source": [
        "### Answer 42"
      ],
      "metadata": {
        "id": "uGphqvGdJbwL"
      }
    },
    {
      "cell_type": "code",
      "source": [
        "even_lst = list(map(lambda x: x**2, filter(lambda x: x%2==0, range(1,11))))\n",
        "print(even_lst)"
      ],
      "metadata": {
        "colab": {
          "base_uri": "https://localhost:8080/"
        },
        "id": "YlZnE-WWJs5J",
        "outputId": "e82fd9c1-5fef-4573-c1ea-b8c0024c150f"
      },
      "execution_count": 141,
      "outputs": [
        {
          "output_type": "stream",
          "name": "stdout",
          "text": [
            "[4, 16, 36, 64, 100]\n"
          ]
        }
      ]
    },
    {
      "cell_type": "markdown",
      "source": [
        "### Answer 43"
      ],
      "metadata": {
        "id": "LCHlpgGNKa_O"
      }
    },
    {
      "cell_type": "code",
      "source": [
        "even_nums = list(filter(lambda x: x%2 == 0, range(1,21)))\n",
        "print(even_nums)"
      ],
      "metadata": {
        "colab": {
          "base_uri": "https://localhost:8080/"
        },
        "id": "FoNy4fkiKcUu",
        "outputId": "55864fb0-eb18-4d59-b7cf-e833e7c33ae3"
      },
      "execution_count": 142,
      "outputs": [
        {
          "output_type": "stream",
          "name": "stdout",
          "text": [
            "[2, 4, 6, 8, 10, 12, 14, 16, 18, 20]\n"
          ]
        }
      ]
    },
    {
      "cell_type": "markdown",
      "source": [
        "### Answer 44"
      ],
      "metadata": {
        "id": "MYxd7PzbLHfX"
      }
    },
    {
      "cell_type": "code",
      "source": [
        "square_nums = list(map(lambda x: x**2 , range(1,21)))\n",
        "print(square_nums)"
      ],
      "metadata": {
        "colab": {
          "base_uri": "https://localhost:8080/"
        },
        "id": "dENLrjkuLJ80",
        "outputId": "70c2c830-8f1d-472a-9ecb-d30c12e63963"
      },
      "execution_count": 143,
      "outputs": [
        {
          "output_type": "stream",
          "name": "stdout",
          "text": [
            "[1, 4, 9, 16, 25, 36, 49, 64, 81, 100, 121, 144, 169, 196, 225, 256, 289, 324, 361, 400]\n"
          ]
        }
      ]
    },
    {
      "cell_type": "markdown",
      "source": [
        "### Answer 45"
      ],
      "metadata": {
        "id": "BibazCgXLiPD"
      }
    },
    {
      "cell_type": "code",
      "source": [
        "class American(object):\n",
        "    @staticmethod\n",
        "    def printNationality():\n",
        "        print(\"America\")\n",
        "\n",
        "anAmerican = American()\n",
        "anAmerican.printNationality()"
      ],
      "metadata": {
        "colab": {
          "base_uri": "https://localhost:8080/"
        },
        "id": "7uaA9AeBLkeb",
        "outputId": "e64bf680-b449-4729-cdd4-c7b4658c232a"
      },
      "execution_count": 146,
      "outputs": [
        {
          "output_type": "stream",
          "name": "stdout",
          "text": [
            "America\n"
          ]
        }
      ]
    },
    {
      "cell_type": "markdown",
      "source": [
        "### Answer 46"
      ],
      "metadata": {
        "id": "JzkjWpGGP_db"
      }
    },
    {
      "cell_type": "code",
      "source": [
        "class American():\n",
        "  def print_val(self):\n",
        "    print(\"In America\")\n",
        "\n",
        "class NewYorker(American):\n",
        "    print(\"In Newyork\")\n",
        "\n",
        "american = American()\n",
        "newyorker = NewYorker()\n",
        "\n",
        "print(american.print_val())\n",
        "print(newyorker)"
      ],
      "metadata": {
        "colab": {
          "base_uri": "https://localhost:8080/"
        },
        "id": "sw4p01t6Mrrr",
        "outputId": "931c4dfe-7d36-4e59-8bd0-19c2b10b7ea8"
      },
      "execution_count": 154,
      "outputs": [
        {
          "output_type": "stream",
          "name": "stdout",
          "text": [
            "In Newyork\n",
            "In America\n",
            "None\n",
            "<__main__.NewYorker object at 0x7f81189f8b90>\n"
          ]
        }
      ]
    },
    {
      "cell_type": "markdown",
      "source": [
        "### Answer 47"
      ],
      "metadata": {
        "id": "bf9RlQU9QsCR"
      }
    },
    {
      "cell_type": "code",
      "source": [
        "class circle:\n",
        "  def __init__(self,r):\n",
        "    self.rad = r\n",
        "\n",
        "  def area(self):\n",
        "    print(\"Area = :\",math.pi*self.rad*self.rad)\n",
        "\n",
        "rad = int(input(\"Enter radius : \"))\n",
        "cir = circle(rad)\n",
        "print(cir.area())"
      ],
      "metadata": {
        "colab": {
          "base_uri": "https://localhost:8080/"
        },
        "id": "wt78IvavQupn",
        "outputId": "24dd173c-38af-44b3-97ee-e6f2b7037e7c"
      },
      "execution_count": 160,
      "outputs": [
        {
          "output_type": "stream",
          "name": "stdout",
          "text": [
            "Enter radius : 6\n",
            "Area = : 113.09733552923255\n",
            "None\n"
          ]
        }
      ]
    },
    {
      "cell_type": "markdown",
      "source": [
        "### Answer 48"
      ],
      "metadata": {
        "id": "wDYKEiNKR74n"
      }
    },
    {
      "cell_type": "code",
      "source": [
        "class rectangle:\n",
        "  def __init__(self,l,b):\n",
        "    self.len = l\n",
        "    self.bre = b\n",
        "\n",
        "  def area(self):\n",
        "    print(\"Area = :\",self.len*self.bre)\n",
        "\n",
        "len = int(input(\"Enter length : \"))\n",
        "br = int(input(\"Enter breadth : \"))\n",
        "rect = rectangle(len,br)\n",
        "print(rect.area())"
      ],
      "metadata": {
        "colab": {
          "base_uri": "https://localhost:8080/"
        },
        "id": "_LlkgUuNR_S8",
        "outputId": "4e652424-dfb5-48a0-8646-d36d4d4c9e9b"
      },
      "execution_count": 162,
      "outputs": [
        {
          "output_type": "stream",
          "name": "stdout",
          "text": [
            "Enter length : 45\n",
            "Enter breadth : 56\n",
            "Area = : 2520\n",
            "None\n"
          ]
        }
      ]
    },
    {
      "cell_type": "markdown",
      "source": [
        "### Answer 49\n"
      ],
      "metadata": {
        "id": "pGXrqSIHSuSH"
      }
    },
    {
      "cell_type": "code",
      "source": [
        "class Shape():\n",
        "    def __init__(self):\n",
        "        pass\n",
        "    def area(self):\n",
        "        return 0\n",
        "\n",
        "class Square(Shape):\n",
        "    def __init__(self,length=0):\n",
        "        Shape.__init__(self)\n",
        "        self.length = length\n",
        "\n",
        "    def area(self):\n",
        "        return self.length*self.length\n",
        "\n",
        "Asqr = Square(5)\n",
        "print(Asqr.area())      # prints 25 as given argument\n",
        "\n",
        "print(Square().area())  # prints zero as default area"
      ],
      "metadata": {
        "colab": {
          "base_uri": "https://localhost:8080/"
        },
        "id": "u4Rsbj7ASv9s",
        "outputId": "20d75ccd-3268-4d60-933c-f51f5adcd4e7"
      },
      "execution_count": 166,
      "outputs": [
        {
          "output_type": "stream",
          "name": "stdout",
          "text": [
            "25\n",
            "0\n"
          ]
        }
      ]
    },
    {
      "cell_type": "markdown",
      "source": [
        "### Answer 50"
      ],
      "metadata": {
        "id": "6JsdEt_4TSpd"
      }
    },
    {
      "cell_type": "code",
      "source": [
        "raise RuntimeError(\"This is the error\")"
      ],
      "metadata": {
        "id": "OR7CRnItTUyg"
      },
      "execution_count": null,
      "outputs": []
    },
    {
      "cell_type": "markdown",
      "source": [
        "### Answer 51"
      ],
      "metadata": {
        "id": "BUFuQpghTg_p"
      }
    },
    {
      "cell_type": "code",
      "source": [
        "def divide(a,b):\n",
        "  try:\n",
        "    num = a/b\n",
        "    print(num)\n",
        "  except ZeroDivisionError:\n",
        "    print(\"Dividing by zero is an issue\")\n",
        "\n",
        "divide(12,0)\n"
      ],
      "metadata": {
        "colab": {
          "base_uri": "https://localhost:8080/"
        },
        "id": "IVGe3Q9pTj6Y",
        "outputId": "4aef8507-bb51-49d0-bbb8-6b60dfc2617b"
      },
      "execution_count": 168,
      "outputs": [
        {
          "output_type": "stream",
          "name": "stdout",
          "text": [
            "Dividing by zero is an issue\n"
          ]
        }
      ]
    },
    {
      "cell_type": "markdown",
      "source": [
        "### Answer 52"
      ],
      "metadata": {
        "id": "HeXJ4eiaUCa7"
      }
    },
    {
      "cell_type": "code",
      "source": [
        "class CustomException(Exception):\n",
        "    def __init__(self, message):\n",
        "        self.message = message\n",
        "\n",
        "\n",
        "num = int(input())\n",
        "num2 = int(input())\n",
        "try:\n",
        "    if num2 == 0:\n",
        "        raise CustomException(\"We can't divide it by zero\")\n",
        "    elif num2 > 0:\n",
        "        raise CustomException(\"Yes, we can divide the number\")\n",
        "except CustomException as ce:\n",
        "    print(\"The error raised: \" + ce.message)"
      ],
      "metadata": {
        "colab": {
          "base_uri": "https://localhost:8080/"
        },
        "id": "cEQolZRfUEuB",
        "outputId": "cd0e364f-5f0f-4704-c4eb-6633c3b096ca"
      },
      "execution_count": 171,
      "outputs": [
        {
          "output_type": "stream",
          "name": "stdout",
          "text": [
            "5\n",
            "0\n",
            "The error raised: We can't divide it by zero\n"
          ]
        }
      ]
    }
  ]
}